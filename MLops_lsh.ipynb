{
 "cells": [
  {
   "cell_type": "markdown",
   "metadata": {},
   "source": [
    "# Import"
   ]
  },
  {
   "cell_type": "code",
   "execution_count": 76,
   "metadata": {},
   "outputs": [],
   "source": [
    "import pandas as pd\n",
    "import numpy as np\n",
    "from sklearn.model_selection import train_test_split\n",
    "from sklearn.preprocessing import LabelEncoder\n",
    "from sklearn.linear_model import LogisticRegression\n",
    "from sklearn.ensemble import RandomForestClassifier\n",
    "from sklearn.svm import SVC\n",
    "from sklearn.metrics import classification_report, confusion_matrix\n",
    "import seaborn as sns\n",
    "import matplotlib.pyplot as plt\n"
   ]
  },
  {
   "cell_type": "markdown",
   "metadata": {},
   "source": [
    "# Load Dataset"
   ]
  },
  {
   "cell_type": "code",
   "execution_count": 77,
   "metadata": {},
   "outputs": [],
   "source": [
    "# Load the dataset\n",
    "df = pd.read_csv('aac_intakes_outcomes.csv')"
   ]
  },
  {
   "cell_type": "code",
   "execution_count": 78,
   "metadata": {},
   "outputs": [
    {
     "name": "stdout",
     "output_type": "stream",
     "text": [
      "Missing index count: 0\n",
      "Some missing indices: []\n"
     ]
    }
   ],
   "source": [
    "# Missing index check\n",
    "full_index = set(range(df.index.min(), df.index.max() + 1))\n",
    "actual_index = set(df.index)\n",
    "missing_index = sorted(full_index - actual_index)\n",
    "\n",
    "print(f\"Missing index count: {len(missing_index)}\")\n",
    "print(\"Some missing indices:\", missing_index[:10])\n",
    "df = df.reset_index(drop=True)"
   ]
  },
  {
   "cell_type": "markdown",
   "metadata": {},
   "source": [
    "# Data Preprocessing"
   ]
  },
  {
   "cell_type": "markdown",
   "metadata": {},
   "source": [
    "## EDA"
   ]
  },
  {
   "cell_type": "code",
   "execution_count": 79,
   "metadata": {},
   "outputs": [
    {
     "name": "stdout",
     "output_type": "stream",
     "text": [
      "Dataset Overview\n",
      "<class 'pandas.core.frame.DataFrame'>\n",
      "RangeIndex: 79672 entries, 0 to 79671\n",
      "Data columns (total 41 columns):\n",
      " #   Column                      Non-Null Count  Dtype  \n",
      "---  ------                      --------------  -----  \n",
      " 0   age_upon_outcome            79672 non-null  object \n",
      " 1   animal_id_outcome           79672 non-null  object \n",
      " 2   date_of_birth               79672 non-null  object \n",
      " 3   outcome_subtype             36348 non-null  object \n",
      " 4   outcome_type                79662 non-null  object \n",
      " 5   sex_upon_outcome            79671 non-null  object \n",
      " 6   age_upon_outcome_(days)     79672 non-null  int64  \n",
      " 7   age_upon_outcome_(years)    79672 non-null  float64\n",
      " 8   age_upon_outcome_age_group  79672 non-null  object \n",
      " 9   outcome_datetime            79672 non-null  object \n",
      " 10  outcome_month               79672 non-null  int64  \n",
      " 11  outcome_year                79672 non-null  int64  \n",
      " 12  outcome_monthyear           79672 non-null  object \n",
      " 13  outcome_weekday             79672 non-null  object \n",
      " 14  outcome_hour                79672 non-null  int64  \n",
      " 15  outcome_number              79672 non-null  float64\n",
      " 16  dob_year                    79672 non-null  int64  \n",
      " 17  dob_month                   79672 non-null  int64  \n",
      " 18  dob_monthyear               79672 non-null  object \n",
      " 19  age_upon_intake             79672 non-null  object \n",
      " 20  animal_id_intake            79672 non-null  object \n",
      " 21  animal_type                 79672 non-null  object \n",
      " 22  breed                       79672 non-null  object \n",
      " 23  color                       79672 non-null  object \n",
      " 24  found_location              79672 non-null  object \n",
      " 25  intake_condition            79672 non-null  object \n",
      " 26  intake_type                 79672 non-null  object \n",
      " 27  sex_upon_intake             79671 non-null  object \n",
      " 28  count                       79672 non-null  int64  \n",
      " 29  age_upon_intake_(days)      79672 non-null  int64  \n",
      " 30  age_upon_intake_(years)     79672 non-null  float64\n",
      " 31  age_upon_intake_age_group   79672 non-null  object \n",
      " 32  intake_datetime             79672 non-null  object \n",
      " 33  intake_month                79672 non-null  int64  \n",
      " 34  intake_year                 79672 non-null  int64  \n",
      " 35  intake_monthyear            79672 non-null  object \n",
      " 36  intake_weekday              79672 non-null  object \n",
      " 37  intake_hour                 79672 non-null  int64  \n",
      " 38  intake_number               79672 non-null  float64\n",
      " 39  time_in_shelter             79672 non-null  object \n",
      " 40  time_in_shelter_days        79672 non-null  float64\n",
      "dtypes: float64(5), int64(11), object(25)\n",
      "memory usage: 24.9+ MB\n",
      "None\n",
      "\n",
      "Missing Values\n",
      "outcome_subtype     43324\n",
      "outcome_type           10\n",
      "sex_upon_outcome        1\n",
      "sex_upon_intake         1\n",
      "dtype: int64\n"
     ]
    }
   ],
   "source": [
    "import pandas as pd\n",
    "import numpy as np\n",
    "import seaborn as sns\n",
    "import matplotlib.pyplot as plt\n",
    "\n",
    "\n",
    "# Data imformation\n",
    "print(\"Dataset Overview\")\n",
    "print(df.info())\n",
    "\n",
    "# Confirm Missing value\n",
    "print(\"\\nMissing Values\")\n",
    "missing = df.isnull().sum()\n",
    "missing = missing[missing > 0]\n",
    "if not missing.empty:\n",
    "    print(missing.sort_values(ascending=False))\n",
    "else:\n",
    "    print(\"No missing values.\")\n",
    "    \n"
   ]
  },
  {
   "cell_type": "markdown",
   "metadata": {},
   "source": [
    "### Handling Missing value"
   ]
  },
  {
   "cell_type": "code",
   "execution_count": 80,
   "metadata": {},
   "outputs": [],
   "source": [
    "# 1. outcome_subtype \n",
    "df = df.drop(columns=['outcome_subtype'])\n",
    "\n",
    "# 2. outcome_type \n",
    "df = df.dropna(subset=['outcome_type'])\n",
    "\n",
    "# 3. sex_upon_intake and sex_upon_outcome \n",
    "for col in ['sex_upon_intake', 'sex_upon_outcome']:\n",
    "    mode_val = df[col].mode()[0]\n",
    "    df[col] = df[col].fillna(mode_val)\n"
   ]
  },
  {
   "cell_type": "markdown",
   "metadata": {},
   "source": [
    "### Convert target to binary\n",
    "### encode categorical features\n",
    "### remove data leakage-prone columns\n"
   ]
  },
  {
   "cell_type": "code",
   "execution_count": 81,
   "metadata": {},
   "outputs": [],
   "source": [
    "\n",
    "# Create binary classification target: Adopted (1), Others (0)\n",
    "df['adopted'] = df['outcome_type'].apply(lambda x: 1 if x == 'Adoption' else 0)\n",
    "\n",
    "# Label encode categorical variables\n",
    "categorical_cols = df.select_dtypes(include='object').columns.tolist()\n",
    "\n",
    "le = LabelEncoder()\n",
    "for col in categorical_cols:\n",
    "    df[col] = le.fit_transform(df[col])\n",
    "\n",
    "# prevent Data leakage\n",
    "drop_cols = ['outcome_type', 'outcome_subtype', 'animal_id_outcome', 'animal_id_intake',\n",
    "             'outcome_datetime', 'outcome_monthyear', 'intake_datetime', 'intake_monthyear',\n",
    "             'dob_monthyear', 'date_of_birth', 'time_in_shelter']  \n",
    "\n",
    "df = df.drop(columns=[col for col in drop_cols if col in df.columns])\n",
    "\n",
    "# Separate features and labels\n",
    "X = df.drop(columns='adopted')\n",
    "y = df['adopted']\n",
    "\n"
   ]
  },
  {
   "cell_type": "markdown",
   "metadata": {},
   "source": [
    "### Handle to imbalanced class"
   ]
  },
  {
   "cell_type": "code",
   "execution_count": 82,
   "metadata": {},
   "outputs": [],
   "source": [
    "# Handle to imbalanced proportion of y class\n",
    "from imblearn.over_sampling import SMOTE\n",
    "\n",
    "smote = SMOTE()\n",
    "X_resampled, y_resampled = smote.fit_resample(X, y)"
   ]
  },
  {
   "cell_type": "code",
   "execution_count": 83,
   "metadata": {},
   "outputs": [
    {
     "data": {
      "image/png": "[encoded data removed]",
      "text/plain": [
       "<Figure size 640x480 with 1 Axes>"
      ]
     },
     "metadata": {},
     "output_type": "display_data"
    }
   ],
   "source": [
    "import matplotlib.pyplot as plt\n",
    "import seaborn as sns\n",
    "\n",
    "sns.countplot(x=y_resampled)\n",
    "plt.title(\"Class Distribution After SMOTE\")\n",
    "plt.xlabel(\"Class\")\n",
    "plt.ylabel(\"Count\")\n",
    "plt.xticks(ticks=[0, 1], labels=['Not Adopted', 'Adopted'])\n",
    "plt.show()\n"
   ]
  },
  {
   "cell_type": "markdown",
   "metadata": {},
   "source": [
    "# Train-Test split"
   ]
  },
  {
   "cell_type": "code",
   "execution_count": 84,
   "metadata": {},
   "outputs": [],
   "source": [
    "from sklearn.model_selection import train_test_split\n",
    "\n",
    "X_train, X_test, y_train, y_test = train_test_split(X, y, test_size=0.2, random_state=42)"
   ]
  },
  {
   "cell_type": "markdown",
   "metadata": {},
   "source": [
    "# Model Selection & Evaluation"
   ]
  },
  {
   "cell_type": "code",
   "execution_count": 85,
   "metadata": {},
   "outputs": [
    {
     "name": "stdout",
     "output_type": "stream",
     "text": [
      "Cross-Validation Results :\n",
      "Accuracy Mean: 0.8847  |  Std: 0.0036\n",
      "Precision Mean: 0.8477  |  Std: 0.0057\n",
      "Recall Mean: 0.8856  |  Std: 0.0066\n",
      "F1 Mean: 0.8662  |  Std: 0.0046\n"
     ]
    }
   ],
   "source": [
    "from sklearn.ensemble import RandomForestClassifier\n",
    "from sklearn.model_selection import KFold, cross_validate\n",
    "from sklearn.metrics import make_scorer, accuracy_score, precision_score, recall_score, f1_score\n",
    "\n",
    "model = RandomForestClassifier()\n",
    "\n",
    "kfold = KFold(n_splits=5, shuffle=True, random_state=42)\n",
    "\n",
    "scoring = {\n",
    "    'accuracy': make_scorer(accuracy_score),\n",
    "    'precision': make_scorer(precision_score),\n",
    "    'recall': make_scorer(recall_score),\n",
    "    'f1': make_scorer(f1_score)\n",
    "}\n",
    "\n",
    "cv_results = cross_validate(model, X, y, cv=kfold, scoring=scoring)\n",
    "\n",
    "print(\"Cross-Validation Results :\")\n",
    "for metric in scoring.keys():\n",
    "    scores = cv_results[f'test_{metric}']\n",
    "    print(f\"{metric.capitalize()} Mean: {scores.mean():.4f}  |  Std: {scores.std():.4f}\")\n"
   ]
  },
  {
   "cell_type": "code",
   "execution_count": 86,
   "metadata": {},
   "outputs": [
    {
     "name": "stderr",
     "output_type": "stream",
     "text": [
      "/var/folders/bw/2mkdr3w938z4h0z84x6l4dmr0000gn/T/ipykernel_11028/2369650898.py:14: FutureWarning: \n",
      "\n",
      "Passing `palette` without assigning `hue` is deprecated and will be removed in v0.14.0. Assign the `y` variable to `hue` and set `legend=False` for the same effect.\n",
      "\n",
      "  sns.barplot(x=feat_imp.values, y=feat_imp.index, palette=\"viridis\")\n"
     ]
    },
    {
     "data": {
      "image/png": "[encoded data removed]",
      "text/plain": [
       "<Figure size 1000x600 with 1 Axes>"
      ]
     },
     "metadata": {},
     "output_type": "display_data"
    }
   ],
   "source": [
    "import pandas as pd\n",
    "import matplotlib.pyplot as plt\n",
    "import seaborn as sns\n",
    "\n",
    "model = RandomForestClassifier()\n",
    "model.fit(X, y)\n",
    "\n",
    "# Feature importance \n",
    "importances = model.feature_importances_\n",
    "feature_names = X.columns\n",
    "feat_imp = pd.Series(importances, index=feature_names).sort_values(ascending=False)\n",
    "\n",
    "plt.figure(figsize=(10, 6))\n",
    "sns.barplot(x=feat_imp.values, y=feat_imp.index, palette=\"viridis\")\n",
    "plt.title(\"Feature Importances (Random Forest)\")\n",
    "plt.xlabel(\"Importance Score\")\n",
    "plt.ylabel(\"Feature\")\n",
    "plt.tight_layout()\n",
    "plt.show()"
   ]
  },
  {
   "cell_type": "markdown",
   "metadata": {},
   "source": [
    "# Additional code"
   ]
  },
  {
   "cell_type": "markdown",
   "metadata": {},
   "source": [
    "## Model Comparison"
   ]
  },
  {
   "cell_type": "code",
   "execution_count": 87,
   "metadata": {},
   "outputs": [
    {
     "name": "stderr",
     "output_type": "stream",
     "text": [
      "/opt/homebrew/Caskroom/miniforge/base/lib/python3.12/site-packages/sklearn/linear_model/_linear_loss.py:200: RuntimeWarning: divide by zero encountered in matmul\n",
      "  raw_prediction = X @ weights + intercept\n",
      "/opt/homebrew/Caskroom/miniforge/base/lib/python3.12/site-packages/sklearn/linear_model/_linear_loss.py:200: RuntimeWarning: overflow encountered in matmul\n",
      "  raw_prediction = X @ weights + intercept\n",
      "/opt/homebrew/Caskroom/miniforge/base/lib/python3.12/site-packages/sklearn/linear_model/_linear_loss.py:200: RuntimeWarning: invalid value encountered in matmul\n",
      "  raw_prediction = X @ weights + intercept\n",
      "/opt/homebrew/Caskroom/miniforge/base/lib/python3.12/site-packages/sklearn/linear_model/_linear_loss.py:330: RuntimeWarning: divide by zero encountered in matmul\n",
      "  grad[:n_features] = X.T @ grad_pointwise + l2_reg_strength * weights\n",
      "/opt/homebrew/Caskroom/miniforge/base/lib/python3.12/site-packages/sklearn/linear_model/_linear_loss.py:330: RuntimeWarning: overflow encountered in matmul\n",
      "  grad[:n_features] = X.T @ grad_pointwise + l2_reg_strength * weights\n",
      "/opt/homebrew/Caskroom/miniforge/base/lib/python3.12/site-packages/sklearn/linear_model/_linear_loss.py:330: RuntimeWarning: invalid value encountered in matmul\n",
      "  grad[:n_features] = X.T @ grad_pointwise + l2_reg_strength * weights\n"
     ]
    },
    {
     "name": "stdout",
     "output_type": "stream",
     "text": [
      "\n",
      "🔍 Logistic Regression\n",
      "Accuracy: 0.7923178309169648\n",
      "              precision    recall  f1-score   support\n",
      "\n",
      "           0       0.79      0.87      0.83      9215\n",
      "           1       0.80      0.68      0.73      6718\n",
      "\n",
      "    accuracy                           0.79     15933\n",
      "   macro avg       0.79      0.78      0.78     15933\n",
      "weighted avg       0.79      0.79      0.79     15933\n",
      "\n",
      "\n",
      "🔍 Random Forest\n"
     ]
    },
    {
     "name": "stderr",
     "output_type": "stream",
     "text": [
      "/opt/homebrew/Caskroom/miniforge/base/lib/python3.12/site-packages/sklearn/utils/extmath.py:203: RuntimeWarning: divide by zero encountered in matmul\n",
      "  ret = a @ b\n",
      "/opt/homebrew/Caskroom/miniforge/base/lib/python3.12/site-packages/sklearn/utils/extmath.py:203: RuntimeWarning: overflow encountered in matmul\n",
      "  ret = a @ b\n",
      "/opt/homebrew/Caskroom/miniforge/base/lib/python3.12/site-packages/sklearn/utils/extmath.py:203: RuntimeWarning: invalid value encountered in matmul\n",
      "  ret = a @ b\n"
     ]
    },
    {
     "name": "stdout",
     "output_type": "stream",
     "text": [
      "Accuracy: 0.8858344316826712\n",
      "              precision    recall  f1-score   support\n",
      "\n",
      "           0       0.91      0.89      0.90      9215\n",
      "           1       0.85      0.88      0.87      6718\n",
      "\n",
      "    accuracy                           0.89     15933\n",
      "   macro avg       0.88      0.89      0.88     15933\n",
      "weighted avg       0.89      0.89      0.89     15933\n",
      "\n",
      "\n",
      "🔍 LightGBM\n",
      "[LightGBM] [Info] Number of positive: 26876, number of negative: 36853\n",
      "[LightGBM] [Info] Auto-choosing row-wise multi-threading, the overhead of testing was 0.002083 seconds.\n",
      "You can set `force_row_wise=true` to remove the overhead.\n",
      "And if memory is not enough, you can set `force_col_wise=true`.\n",
      "[LightGBM] [Info] Total Bins 1413\n",
      "[LightGBM] [Info] Number of data points in the train set: 63729, number of used features: 29\n",
      "[LightGBM] [Info] [binary:BoostFromScore]: pavg=0.421723 -> initscore=-0.315703\n",
      "[LightGBM] [Info] Start training from score -0.315703\n",
      "Accuracy: 0.8790560471976401\n",
      "              precision    recall  f1-score   support\n",
      "\n",
      "           0       0.91      0.88      0.89      9215\n",
      "           1       0.84      0.87      0.86      6718\n",
      "\n",
      "    accuracy                           0.88     15933\n",
      "   macro avg       0.88      0.88      0.88     15933\n",
      "weighted avg       0.88      0.88      0.88     15933\n",
      "\n",
      "\n",
      "🔍 CatBoost\n",
      "Accuracy: 0.883512207368355\n",
      "              precision    recall  f1-score   support\n",
      "\n",
      "           0       0.91      0.88      0.90      9215\n",
      "           1       0.85      0.88      0.86      6718\n",
      "\n",
      "    accuracy                           0.88     15933\n",
      "   macro avg       0.88      0.88      0.88     15933\n",
      "weighted avg       0.88      0.88      0.88     15933\n",
      "\n",
      "\n",
      "🔍 SVM\n",
      "Accuracy: 0.8429046632774744\n",
      "              precision    recall  f1-score   support\n",
      "\n",
      "           0       0.87      0.86      0.86      9215\n",
      "           1       0.81      0.82      0.82      6718\n",
      "\n",
      "    accuracy                           0.84     15933\n",
      "   macro avg       0.84      0.84      0.84     15933\n",
      "weighted avg       0.84      0.84      0.84     15933\n",
      "\n"
     ]
    }
   ],
   "source": [
    "from sklearn.linear_model import LogisticRegression\n",
    "from sklearn.ensemble import RandomForestClassifier\n",
    "from xgboost import XGBClassifier\n",
    "from lightgbm import LGBMClassifier\n",
    "from catboost import CatBoostClassifier\n",
    "from sklearn.svm import SVC\n",
    "from sklearn.metrics import accuracy_score, classification_report\n",
    "from sklearn.preprocessing import StandardScaler\n",
    "\n",
    "#SVM과 Logistic Regression을 위해 스케일링\n",
    "scaler = StandardScaler()\n",
    "X_train_scaled = scaler.fit_transform(X_train)\n",
    "X_test_scaled = scaler.transform(X_test)\n",
    "\n",
    "# 모델 정의\n",
    "models = {\n",
    "    \"Logistic Regression\": LogisticRegression(max_iter=1000),\n",
    "    \"Random Forest\": RandomForestClassifier(),\n",
    "    \"LightGBM\": LGBMClassifier(),\n",
    "    \"CatBoost\": CatBoostClassifier(verbose=0),  # verbose 끄기\n",
    "    \"SVM\": SVC()\n",
    "}\n",
    "\n",
    "# 학습 및 예측\n",
    "for name, model in models.items():\n",
    "    print(f\"\\n🔍 {name}\")\n",
    "    \n",
    "    if name in [\"Logistic Regression\", \"SVM\"]:\n",
    "        model.fit(X_train_scaled, y_train)\n",
    "        preds = model.predict(X_test_scaled)\n",
    "    else:\n",
    "        model.fit(X_train, y_train)\n",
    "        preds = model.predict(X_test)\n",
    "        \n",
    "    print(\"Accuracy:\", accuracy_score(y_test, preds))\n",
    "    print(classification_report(y_test, preds))\n"
   ]
  },
  {
   "cell_type": "markdown",
   "metadata": {},
   "source": [
    "## check environment"
   ]
  },
  {
   "cell_type": "code",
   "execution_count": 88,
   "metadata": {},
   "outputs": [
    {
     "name": "stdout",
     "output_type": "stream",
     "text": [
      "Python 3.12.9\n"
     ]
    }
   ],
   "source": [
    "!python --version\n"
   ]
  },
  {
   "cell_type": "code",
   "execution_count": 89,
   "metadata": {},
   "outputs": [
    {
     "name": "stdout",
     "output_type": "stream",
     "text": [
      "Python Version: 3.12.9\n",
      "pandas: 2.2.3\n",
      "scikit-learn: 1.6.1\n",
      "matplotlib: 3.10.1\n",
      "seaborn: 0.13.2\n",
      "imblearn: 0.13.0\n"
     ]
    }
   ],
   "source": [
    "import pandas as pd\n",
    "import sklearn\n",
    "import matplotlib\n",
    "import seaborn\n",
    "import imblearn\n",
    "\n",
    "print(\"Python Version:\", platform.python_version())\n",
    "print(\"pandas:\", pd.__version__)\n",
    "print(\"scikit-learn:\", sklearn.__version__)\n",
    "print(\"matplotlib:\", matplotlib.__version__)\n",
    "print(\"seaborn:\", seaborn.__version__)\n",
    "print(\"imblearn:\", imblearn.__version__)\n"
   ]
  }
 ],
 "metadata": {
  "kernelspec": {
   "display_name": "base",
   "language": "python",
   "name": "python3"
  },
  "language_info": {
   "codemirror_mode": {
    "name": "ipython",
    "version": 3
   },
   "file_extension": ".py",
   "mimetype": "text/x-python",
   "name": "python",
   "nbconvert_exporter": "python",
   "pygments_lexer": "ipython3",
   "version": "3.12.9"
  }
 },
 "nbformat": 4,
 "nbformat_minor": 2
}
