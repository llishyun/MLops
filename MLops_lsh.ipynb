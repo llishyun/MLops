{
 "cells": [
  {
   "cell_type": "markdown",
   "metadata": {},
   "source": [
    "# ML project\n",
    "### submission : 3 files\n",
    "- source code\n",
    "- requirements.txt (week5 lab 참고)\n",
    "- Reports (about 3 pages, no more than 4 pages)\n",
    "\n",
    "->[free format : problem definition, dataset, model description, evaluation method and matrics(why it is important), development envirionment(incl.OS, pytho, packages,...), Result&interpretation, Link for the remote source reposity(Github)]\n"
   ]
  },
  {
   "cell_type": "markdown",
   "metadata": {},
   "source": [
    "# Define ML problem"
   ]
  },
  {
   "cell_type": "markdown",
   "metadata": {},
   "source": [
    "•    목표: 동물의 품종, 나이, 성별, 보호소 도착 시점 정보 등을 활용해 해당 동물의 Outcome (입양, 안락사, 반환 등)을 예측\n",
    "\n",
    "•    문제 유형: 다중 클래스 분류 문제 (Multiclass Classification)\n",
    "\n",
    "•    활용: 보호소 정책 개선, 입양률 향상을 위한 의사결정에 활용 가능"
   ]
  },
  {
   "cell_type": "markdown",
   "metadata": {},
   "source": [
    "# Data preparation"
   ]
  },
  {
   "cell_type": "markdown",
   "metadata": {},
   "source": [
    "\n",
    "출처: Kaggle: Austin Animal Center Shelter Outcomes\n",
    "\n",
    "파일 설명:\n",
    "\n",
    "- Animal Outcomes.csv: 결과 정보\n",
    "\n",
    "- Animal Intakes.csv: 보호소 입소 시 정보\n",
    "\n",
    "- 두 파일은 animal_id를 기준으로 병합되어 aac_intakes_outcomes.csv 형태로 사용\n",
    "\n",
    "전처리 고려사항:\n",
    "\n",
    "- AgeuponOutcome → 숫자형 나이로 변환\n",
    "\n",
    "- SexuponOutcome → 성별 + 중성화 여부로 분리\n",
    "\n",
    "- Breed, Color → 주요 범주만 남기고 희귀 항목은 통합\n",
    "\n",
    "- DateTime → 요일/시간대 등의 파생 변수 생성 가능\n",
    "\n",
    "- feature importance로 중요한 피처만 선정\n"
   ]
  },
  {
   "cell_type": "markdown",
   "metadata": {},
   "source": [
    "# Import"
   ]
  },
  {
   "cell_type": "code",
   "execution_count": null,
   "metadata": {},
   "outputs": [],
   "source": [
    "import pandas as pd\n",
    "import numpy as np\n",
    "from sklearn.model_selection import train_test_split\n",
    "from sklearn.preprocessing import LabelEncoder\n",
    "from sklearn.linear_model import LogisticRegression\n",
    "from sklearn.ensemble import RandomForestClassifier\n",
    "from sklearn.svm import SVC\n",
    "from sklearn.metrics import classification_report, confusion_matrix\n",
    "import seaborn as sns\n",
    "import matplotlib.pyplot as plt\n"
   ]
  },
  {
   "cell_type": "markdown",
   "metadata": {},
   "source": [
    "# Load Dataset"
   ]
  },
  {
   "cell_type": "code",
   "execution_count": 39,
   "metadata": {},
   "outputs": [],
   "source": [
    "# Load the dataset\n",
    "df = pd.read_csv('aac_intakes_outcomes.csv')"
   ]
  },
  {
   "cell_type": "code",
   "execution_count": 54,
   "metadata": {},
   "outputs": [
    {
     "name": "stdout",
     "output_type": "stream",
     "text": [
      "Missing index count: 0\n",
      "Some missing indices: []\n"
     ]
    }
   ],
   "source": [
    "# Missing index check\n",
    "full_index = set(range(df.index.min(), df.index.max() + 1))\n",
    "actual_index = set(df.index)\n",
    "missing_index = sorted(full_index - actual_index)\n",
    "\n",
    "print(f\"Missing index count: {len(missing_index)}\")\n",
    "print(\"Some missing indices:\", missing_index[:10])\n",
    "df = df.reset_index(drop=True)"
   ]
  },
  {
   "cell_type": "markdown",
   "metadata": {},
   "source": [
    "# Data Preprocessing"
   ]
  },
  {
   "cell_type": "markdown",
   "metadata": {},
   "source": [
    "## EDA"
   ]
  },
  {
   "cell_type": "code",
   "execution_count": 55,
   "metadata": {},
   "outputs": [
    {
     "name": "stdout",
     "output_type": "stream",
     "text": [
      "Dataset Overview\n",
      "<class 'pandas.core.frame.DataFrame'>\n",
      "RangeIndex: 79672 entries, 0 to 79671\n",
      "Data columns (total 41 columns):\n",
      " #   Column                      Non-Null Count  Dtype  \n",
      "---  ------                      --------------  -----  \n",
      " 0   age_upon_outcome            79672 non-null  object \n",
      " 1   animal_id_outcome           79672 non-null  object \n",
      " 2   date_of_birth               79672 non-null  object \n",
      " 3   outcome_subtype             36348 non-null  object \n",
      " 4   outcome_type                79662 non-null  object \n",
      " 5   sex_upon_outcome            79671 non-null  object \n",
      " 6   age_upon_outcome_(days)     79672 non-null  int64  \n",
      " 7   age_upon_outcome_(years)    79672 non-null  float64\n",
      " 8   age_upon_outcome_age_group  79672 non-null  object \n",
      " 9   outcome_datetime            79672 non-null  object \n",
      " 10  outcome_month               79672 non-null  int64  \n",
      " 11  outcome_year                79672 non-null  int64  \n",
      " 12  outcome_monthyear           79672 non-null  object \n",
      " 13  outcome_weekday             79672 non-null  object \n",
      " 14  outcome_hour                79672 non-null  int64  \n",
      " 15  outcome_number              79672 non-null  float64\n",
      " 16  dob_year                    79672 non-null  int64  \n",
      " 17  dob_month                   79672 non-null  int64  \n",
      " 18  dob_monthyear               79672 non-null  object \n",
      " 19  age_upon_intake             79672 non-null  object \n",
      " 20  animal_id_intake            79672 non-null  object \n",
      " 21  animal_type                 79672 non-null  object \n",
      " 22  breed                       79672 non-null  object \n",
      " 23  color                       79672 non-null  object \n",
      " 24  found_location              79672 non-null  object \n",
      " 25  intake_condition            79672 non-null  object \n",
      " 26  intake_type                 79672 non-null  object \n",
      " 27  sex_upon_intake             79671 non-null  object \n",
      " 28  count                       79672 non-null  int64  \n",
      " 29  age_upon_intake_(days)      79672 non-null  int64  \n",
      " 30  age_upon_intake_(years)     79672 non-null  float64\n",
      " 31  age_upon_intake_age_group   79672 non-null  object \n",
      " 32  intake_datetime             79672 non-null  object \n",
      " 33  intake_month                79672 non-null  int64  \n",
      " 34  intake_year                 79672 non-null  int64  \n",
      " 35  intake_monthyear            79672 non-null  object \n",
      " 36  intake_weekday              79672 non-null  object \n",
      " 37  intake_hour                 79672 non-null  int64  \n",
      " 38  intake_number               79672 non-null  float64\n",
      " 39  time_in_shelter             79672 non-null  object \n",
      " 40  time_in_shelter_days        79672 non-null  float64\n",
      "dtypes: float64(5), int64(11), object(25)\n",
      "memory usage: 24.9+ MB\n",
      "None\n",
      "\n",
      "Missing Values\n",
      "outcome_subtype     43324\n",
      "outcome_type           10\n",
      "sex_upon_outcome        1\n",
      "sex_upon_intake         1\n",
      "dtype: int64\n"
     ]
    }
   ],
   "source": [
    "import pandas as pd\n",
    "import numpy as np\n",
    "import seaborn as sns\n",
    "import matplotlib.pyplot as plt\n",
    "\n",
    "\n",
    "# 데이터 정보\n",
    "print(\"Dataset Overview\")\n",
    "print(df.info())\n",
    "\n",
    "# 결측치 확인\n",
    "print(\"\\nMissing Values\")\n",
    "missing = df.isnull().sum()\n",
    "missing = missing[missing > 0]\n",
    "if not missing.empty:\n",
    "    print(missing.sort_values(ascending=False))\n",
    "else:\n",
    "    print(\"No missing values.\")\n",
    "    \n"
   ]
  },
  {
   "cell_type": "markdown",
   "metadata": {},
   "source": [
    "### Handling Missing value"
   ]
  },
  {
   "cell_type": "code",
   "execution_count": 56,
   "metadata": {},
   "outputs": [],
   "source": [
    "# 1. outcome_subtype \n",
    "df = df.drop(columns=['outcome_subtype'])\n",
    "\n",
    "# 2. outcome_type \n",
    "df = df.dropna(subset=['outcome_type'])\n",
    "\n",
    "# 3. sex_upon_intake and sex_upon_outcome \n",
    "for col in ['sex_upon_intake', 'sex_upon_outcome']:\n",
    "    mode_val = df[col].mode()[0]\n",
    "    df[col] = df[col].fillna(mode_val)\n"
   ]
  },
  {
   "cell_type": "markdown",
   "metadata": {},
   "source": [
    "### Convert target to binary\n",
    "### encode categorical features\n",
    "### remove data leakage-prone columns\n"
   ]
  },
  {
   "cell_type": "code",
   "execution_count": 57,
   "metadata": {},
   "outputs": [],
   "source": [
    "\n",
    "# Create binary classification target: Adopted (1), Others (0)\n",
    "df['adopted'] = df['outcome_type'].apply(lambda x: 1 if x == 'Adoption' else 0)\n",
    "\n",
    "# Label encode categorical variables\n",
    "categorical_cols = df.select_dtypes(include='object').columns.tolist()\n",
    "\n",
    "le = LabelEncoder()\n",
    "for col in categorical_cols:\n",
    "    df[col] = le.fit_transform(df[col])\n",
    "\n",
    "# prevent Data leakage\n",
    "drop_cols = ['outcome_type', 'outcome_subtype', 'animal_id_outcome', 'animal_id_intake',\n",
    "             'outcome_datetime', 'outcome_monthyear', 'intake_datetime', 'intake_monthyear',\n",
    "             'dob_monthyear', 'date_of_birth', 'time_in_shelter']  \n",
    "\n",
    "df = df.drop(columns=[col for col in drop_cols if col in df.columns])\n",
    "\n",
    "# Separate features and labels\n",
    "X = df.drop(columns='adopted')\n",
    "y = df['adopted']\n",
    "\n"
   ]
  },
  {
   "cell_type": "markdown",
   "metadata": {},
   "source": [
    "### Handle to imbalanced class"
   ]
  },
  {
   "cell_type": "code",
   "execution_count": 58,
   "metadata": {},
   "outputs": [],
   "source": [
    "# Handle to imbalanced proportion of y class\n",
    "from imblearn.over_sampling import SMOTE\n",
    "\n",
    "smote = SMOTE()\n",
    "X_resampled, y_resampled = smote.fit_resample(X, y)"
   ]
  },
  {
   "cell_type": "code",
   "execution_count": 61,
   "metadata": {},
   "outputs": [
    {
     "data": {
      "image/png": "[encoded data removed]",
      "text/plain": [
       "<Figure size 640x480 with 1 Axes>"
      ]
     },
     "metadata": {},
     "output_type": "display_data"
    }
   ],
   "source": [
    "import matplotlib.pyplot as plt\n",
    "import seaborn as sns\n",
    "\n",
    "sns.countplot(x=y_resampled)\n",
    "plt.title(\"Class Distribution After SMOTE\")\n",
    "plt.xlabel(\"Class\")\n",
    "plt.ylabel(\"Count\")\n",
    "plt.xticks(ticks=[0, 1], labels=['Not Adopted', 'Adopted'])\n",
    "plt.show()\n"
   ]
  },
  {
   "cell_type": "markdown",
   "metadata": {},
   "source": [
    "# Train-Test split"
   ]
  },
  {
   "cell_type": "code",
   "execution_count": 62,
   "metadata": {},
   "outputs": [],
   "source": [
    "from sklearn.model_selection import train_test_split\n",
    "\n",
    "X_train, X_test, y_train, y_test = train_test_split(X, y, test_size=0.2, random_state=42)"
   ]
  },
  {
   "cell_type": "markdown",
   "metadata": {},
   "source": [
    "# Model Selection & Evaluation"
   ]
  },
  {
   "cell_type": "code",
   "execution_count": 68,
   "metadata": {},
   "outputs": [
    {
     "name": "stdout",
     "output_type": "stream",
     "text": [
      "Cross-Validation Results :\n",
      "Accuracy Mean: 0.8853  |  Std: 0.0026\n",
      "Precision Mean: 0.8480  |  Std: 0.0031\n",
      "Recall Mean: 0.8869  |  Std: 0.0072\n",
      "F1 Mean: 0.8670  |  Std: 0.0036\n"
     ]
    }
   ],
   "source": [
    "from sklearn.ensemble import RandomForestClassifier\n",
    "from sklearn.model_selection import KFold, cross_validate\n",
    "from sklearn.metrics import make_scorer, accuracy_score, precision_score, recall_score, f1_score\n",
    "\n",
    "model = RandomForestClassifier()\n",
    "\n",
    "kfold = KFold(n_splits=5, shuffle=True, random_state=42)\n",
    "\n",
    "scoring = {\n",
    "    'accuracy': make_scorer(accuracy_score),\n",
    "    'precision': make_scorer(precision_score),\n",
    "    'recall': make_scorer(recall_score),\n",
    "    'f1': make_scorer(f1_score)\n",
    "}\n",
    "\n",
    "cv_results = cross_validate(model, X, y, cv=kfold, scoring=scoring)\n",
    "\n",
    "print(\"Cross-Validation Results :\")\n",
    "for metric in scoring.keys():\n",
    "    scores = cv_results[f'test_{metric}']\n",
    "    print(f\"{metric.capitalize()} Mean: {scores.mean():.4f}  |  Std: {scores.std():.4f}\")\n"
   ]
  },
  {
   "cell_type": "code",
   "execution_count": 69,
   "metadata": {},
   "outputs": [
    {
     "name": "stderr",
     "output_type": "stream",
     "text": [
      "/var/folders/bw/2mkdr3w938z4h0z84x6l4dmr0000gn/T/ipykernel_11028/237172011.py:16: FutureWarning: \n",
      "\n",
      "Passing `palette` without assigning `hue` is deprecated and will be removed in v0.14.0. Assign the `y` variable to `hue` and set `legend=False` for the same effect.\n",
      "\n",
      "  sns.barplot(x=feat_imp.values, y=feat_imp.index, palette=\"viridis\")\n"
     ]
    },
    {
     "data": {
      "image/png": "[encoded data removed]",
      "text/plain": [
       "<Figure size 1000x600 with 1 Axes>"
      ]
     },
     "metadata": {},
     "output_type": "display_data"
    }
   ],
   "source": [
    "import pandas as pd\n",
    "import matplotlib.pyplot as plt\n",
    "import seaborn as sns\n",
    "\n",
    "# 모델 학습 (이미 학습된 모델이면 이 줄 생략)\n",
    "model = RandomForestClassifier()\n",
    "model.fit(X, y)\n",
    "\n",
    "# Feature importance 추출\n",
    "importances = model.feature_importances_\n",
    "feature_names = X.columns\n",
    "feat_imp = pd.Series(importances, index=feature_names).sort_values(ascending=False)\n",
    "\n",
    "# 시각화\n",
    "plt.figure(figsize=(10, 6))\n",
    "sns.barplot(x=feat_imp.values, y=feat_imp.index, palette=\"viridis\")\n",
    "plt.title(\"Feature Importances (Random Forest)\")\n",
    "plt.xlabel(\"Importance Score\")\n",
    "plt.ylabel(\"Feature\")\n",
    "plt.tight_layout()\n",
    "plt.show()"
   ]
  },
  {
   "cell_type": "markdown",
   "metadata": {},
   "source": [
    "# Additional code"
   ]
  },
  {
   "cell_type": "markdown",
   "metadata": {},
   "source": [
    "## Model Comparison"
   ]
  },
  {
   "cell_type": "code",
   "execution_count": 65,
   "metadata": {},
   "outputs": [
    {
     "name": "stdout",
     "output_type": "stream",
     "text": [
      "\n",
      "🔍 Logistic Regression\n",
      "Accuracy: 0.7923178309169648\n",
      "              precision    recall  f1-score   support\n",
      "\n",
      "           0       0.79      0.87      0.83      9215\n",
      "           1       0.80      0.68      0.73      6718\n",
      "\n",
      "    accuracy                           0.79     15933\n",
      "   macro avg       0.79      0.78      0.78     15933\n",
      "weighted avg       0.79      0.79      0.79     15933\n",
      "\n",
      "\n",
      "🔍 Random Forest\n"
     ]
    },
    {
     "name": "stderr",
     "output_type": "stream",
     "text": [
      "/opt/homebrew/Caskroom/miniforge/base/lib/python3.12/site-packages/sklearn/linear_model/_linear_loss.py:200: RuntimeWarning: divide by zero encountered in matmul\n",
      "  raw_prediction = X @ weights + intercept\n",
      "/opt/homebrew/Caskroom/miniforge/base/lib/python3.12/site-packages/sklearn/linear_model/_linear_loss.py:200: RuntimeWarning: overflow encountered in matmul\n",
      "  raw_prediction = X @ weights + intercept\n",
      "/opt/homebrew/Caskroom/miniforge/base/lib/python3.12/site-packages/sklearn/linear_model/_linear_loss.py:200: RuntimeWarning: invalid value encountered in matmul\n",
      "  raw_prediction = X @ weights + intercept\n",
      "/opt/homebrew/Caskroom/miniforge/base/lib/python3.12/site-packages/sklearn/linear_model/_linear_loss.py:330: RuntimeWarning: divide by zero encountered in matmul\n",
      "  grad[:n_features] = X.T @ grad_pointwise + l2_reg_strength * weights\n",
      "/opt/homebrew/Caskroom/miniforge/base/lib/python3.12/site-packages/sklearn/linear_model/_linear_loss.py:330: RuntimeWarning: overflow encountered in matmul\n",
      "  grad[:n_features] = X.T @ grad_pointwise + l2_reg_strength * weights\n",
      "/opt/homebrew/Caskroom/miniforge/base/lib/python3.12/site-packages/sklearn/linear_model/_linear_loss.py:330: RuntimeWarning: invalid value encountered in matmul\n",
      "  grad[:n_features] = X.T @ grad_pointwise + l2_reg_strength * weights\n",
      "/opt/homebrew/Caskroom/miniforge/base/lib/python3.12/site-packages/sklearn/utils/extmath.py:203: RuntimeWarning: divide by zero encountered in matmul\n",
      "  ret = a @ b\n",
      "/opt/homebrew/Caskroom/miniforge/base/lib/python3.12/site-packages/sklearn/utils/extmath.py:203: RuntimeWarning: overflow encountered in matmul\n",
      "  ret = a @ b\n",
      "/opt/homebrew/Caskroom/miniforge/base/lib/python3.12/site-packages/sklearn/utils/extmath.py:203: RuntimeWarning: invalid value encountered in matmul\n",
      "  ret = a @ b\n"
     ]
    },
    {
     "name": "stdout",
     "output_type": "stream",
     "text": [
      "Accuracy: 0.8858344316826712\n",
      "              precision    recall  f1-score   support\n",
      "\n",
      "           0       0.91      0.89      0.90      9215\n",
      "           1       0.85      0.88      0.87      6718\n",
      "\n",
      "    accuracy                           0.89     15933\n",
      "   macro avg       0.88      0.89      0.88     15933\n",
      "weighted avg       0.89      0.89      0.89     15933\n",
      "\n",
      "\n",
      "🔍 LightGBM\n",
      "[LightGBM] [Info] Number of positive: 26876, number of negative: 36853\n",
      "[LightGBM] [Info] Auto-choosing row-wise multi-threading, the overhead of testing was 0.001540 seconds.\n",
      "You can set `force_row_wise=true` to remove the overhead.\n",
      "And if memory is not enough, you can set `force_col_wise=true`.\n",
      "[LightGBM] [Info] Total Bins 1413\n",
      "[LightGBM] [Info] Number of data points in the train set: 63729, number of used features: 29\n",
      "[LightGBM] [Info] [binary:BoostFromScore]: pavg=0.421723 -> initscore=-0.315703\n",
      "[LightGBM] [Info] Start training from score -0.315703\n",
      "Accuracy: 0.8790560471976401\n",
      "              precision    recall  f1-score   support\n",
      "\n",
      "           0       0.91      0.88      0.89      9215\n",
      "           1       0.84      0.87      0.86      6718\n",
      "\n",
      "    accuracy                           0.88     15933\n",
      "   macro avg       0.88      0.88      0.88     15933\n",
      "weighted avg       0.88      0.88      0.88     15933\n",
      "\n",
      "\n",
      "🔍 CatBoost\n",
      "Accuracy: 0.883512207368355\n",
      "              precision    recall  f1-score   support\n",
      "\n",
      "           0       0.91      0.88      0.90      9215\n",
      "           1       0.85      0.88      0.86      6718\n",
      "\n",
      "    accuracy                           0.88     15933\n",
      "   macro avg       0.88      0.88      0.88     15933\n",
      "weighted avg       0.88      0.88      0.88     15933\n",
      "\n",
      "\n",
      "🔍 SVM\n",
      "Accuracy: 0.8429046632774744\n",
      "              precision    recall  f1-score   support\n",
      "\n",
      "           0       0.87      0.86      0.86      9215\n",
      "           1       0.81      0.82      0.82      6718\n",
      "\n",
      "    accuracy                           0.84     15933\n",
      "   macro avg       0.84      0.84      0.84     15933\n",
      "weighted avg       0.84      0.84      0.84     15933\n",
      "\n"
     ]
    }
   ],
   "source": [
    "from sklearn.linear_model import LogisticRegression\n",
    "from sklearn.ensemble import RandomForestClassifier\n",
    "from xgboost import XGBClassifier\n",
    "from lightgbm import LGBMClassifier\n",
    "from catboost import CatBoostClassifier\n",
    "from sklearn.svm import SVC\n",
    "from sklearn.metrics import accuracy_score, classification_report\n",
    "from sklearn.preprocessing import StandardScaler\n",
    "\n",
    "#SVM과 Logistic Regression을 위해 스케일링\n",
    "scaler = StandardScaler()\n",
    "X_train_scaled = scaler.fit_transform(X_train)\n",
    "X_test_scaled = scaler.transform(X_test)\n",
    "\n",
    "# 모델 정의\n",
    "models = {\n",
    "    \"Logistic Regression\": LogisticRegression(max_iter=1000),\n",
    "    \"Random Forest\": RandomForestClassifier(),\n",
    "    \"LightGBM\": LGBMClassifier(),\n",
    "    \"CatBoost\": CatBoostClassifier(verbose=0),  # verbose 끄기\n",
    "    \"SVM\": SVC()\n",
    "}\n",
    "\n",
    "# 학습 및 예측\n",
    "for name, model in models.items():\n",
    "    print(f\"\\n🔍 {name}\")\n",
    "    \n",
    "    if name in [\"Logistic Regression\", \"SVM\"]:\n",
    "        model.fit(X_train_scaled, y_train)\n",
    "        preds = model.predict(X_test_scaled)\n",
    "    else:\n",
    "        model.fit(X_train, y_train)\n",
    "        preds = model.predict(X_test)\n",
    "        \n",
    "    print(\"Accuracy:\", accuracy_score(y_test, preds))\n",
    "    print(classification_report(y_test, preds))\n"
   ]
  },
  {
   "cell_type": "markdown",
   "metadata": {},
   "source": [
    "## check environment"
   ]
  },
  {
   "cell_type": "code",
   "execution_count": 71,
   "metadata": {},
   "outputs": [
    {
     "name": "stdout",
     "output_type": "stream",
     "text": [
      "Python 3.12.9\n"
     ]
    }
   ],
   "source": [
    "!python --version\n"
   ]
  },
  {
   "cell_type": "code",
   "execution_count": 73,
   "metadata": {},
   "outputs": [
    {
     "name": "stdout",
     "output_type": "stream",
     "text": [
      "Darwin 24.4.0\n"
     ]
    }
   ],
   "source": [
    "import platform\n",
    "print(platform.system(), platform.release())"
   ]
  },
  {
   "cell_type": "code",
   "execution_count": 75,
   "metadata": {},
   "outputs": [
    {
     "name": "stdout",
     "output_type": "stream",
     "text": [
      "Python Version: 3.12.9\n",
      "pandas: 2.2.3\n",
      "scikit-learn: 1.6.1\n",
      "matplotlib: 3.10.1\n",
      "seaborn: 0.13.2\n",
      "imblearn: 0.13.0\n"
     ]
    }
   ],
   "source": [
    "import pandas as pd\n",
    "import sklearn\n",
    "import matplotlib\n",
    "import seaborn\n",
    "import imblearn\n",
    "\n",
    "print(\"Python Version:\", platform.python_version())\n",
    "print(\"pandas:\", pd.__version__)\n",
    "print(\"scikit-learn:\", sklearn.__version__)\n",
    "print(\"matplotlib:\", matplotlib.__version__)\n",
    "print(\"seaborn:\", seaborn.__version__)\n",
    "print(\"imblearn:\", imblearn.__version__)\n"
   ]
  },
  {
   "cell_type": "code",
   "execution_count": 74,
   "metadata": {},
   "outputs": [
    {
     "name": "stdout",
     "output_type": "stream",
     "text": [
      "accelerate==1.6.0\n",
      "accelerator==2024.9.13\n",
      "addict==2.4.0\n",
      "appnope @ file:///home/conda/feedstock_root/build_artifacts/appnope_1733332318622/work\n",
      "archspec @ file:///home/conda/feedstock_root/build_artifacts/archspec_1737352602016/work\n",
      "asttokens @ file:///home/conda/feedstock_root/build_artifacts/asttokens_1733250440834/work\n",
      "boltons @ file:///home/conda/feedstock_root/build_artifacts/boltons_1733827268945/work\n",
      "bottle==0.12.25\n",
      "Brotli @ file:///Users/runner/miniforge3/conda-bld/brotli-split_1725267563793/work\n",
      "cached-property==2.0.1\n",
      "catboost==1.2.8\n",
      "certifi @ file:///home/conda/feedstock_root/build_artifacts/certifi_1739515848642/work/certifi\n",
      "cffi @ file:///Users/runner/miniforge3/conda-bld/cffi_1725560578465/work\n",
      "charset-normalizer @ file:///home/conda/feedstock_root/build_artifacts/charset-normalizer_1735929714516/work\n",
      "colorama @ file:///home/conda/feedstock_root/build_artifacts/colorama_1733218098505/work\n",
      "comm @ file:///home/conda/feedstock_root/build_artifacts/comm_1733502965406/work\n",
      "conda @ file:///Users/runner/miniforge3/conda-bld/conda_1736460303265/work\n",
      "conda-libmamba-solver @ file:///home/conda/feedstock_root/build_artifacts/conda-libmamba-solver_1727359833193/work/src\n",
      "conda-package-handling @ file:///home/conda/feedstock_root/build_artifacts/conda-package-handling_1736345463896/work\n",
      "conda_package_streaming @ file:///home/conda/feedstock_root/build_artifacts/conda-package-streaming_1741620732069/work\n",
      "contourpy==1.3.1\n",
      "cosine-similarity==0.1.2\n",
      "cycler==0.12.1\n",
      "debugpy @ file:///Users/runner/miniforge3/conda-bld/debugpy_1744321320535/work\n",
      "decorator @ file:///home/conda/feedstock_root/build_artifacts/decorator_1740384970518/work\n",
      "defusedxml==0.7.1\n",
      "diffusers==0.33.1\n",
      "distro @ file:///home/conda/feedstock_root/build_artifacts/distro_1734729835256/work\n",
      "exceptiongroup @ file:///home/conda/feedstock_root/build_artifacts/exceptiongroup_1733208806608/work\n",
      "executing @ file:///home/conda/feedstock_root/build_artifacts/executing_1733569351617/work\n",
      "filelock==3.18.0\n",
      "fonttools==4.56.0\n",
      "frozendict @ file:///Users/runner/miniforge3/conda-bld/frozendict_1728841362247/work\n",
      "fsspec==2025.3.2\n",
      "graphviz==0.20.3\n",
      "h2 @ file:///home/conda/feedstock_root/build_artifacts/h2_1738578511449/work\n",
      "hpack @ file:///home/conda/feedstock_root/build_artifacts/hpack_1737618293087/work\n",
      "huggingface-hub==0.30.1\n",
      "hyperframe @ file:///home/conda/feedstock_root/build_artifacts/hyperframe_1737618333194/work\n",
      "idna @ file:///home/conda/feedstock_root/build_artifacts/idna_1733211830134/work\n",
      "imbalanced-learn==0.13.0\n",
      "imblearn==0.0\n",
      "importlib_metadata @ file:///home/conda/feedstock_root/build_artifacts/importlib-metadata_1737420181517/work\n",
      "ipykernel @ file:///Users/runner/miniforge3/conda-bld/ipykernel_1719845458456/work\n",
      "ipython @ file:///home/conda/feedstock_root/build_artifacts/bld/rattler-build_ipython_1744033187/work\n",
      "ipython_pygments_lexers @ file:///home/conda/feedstock_root/build_artifacts/ipython_pygments_lexers_1737123620466/work\n",
      "jedi @ file:///home/conda/feedstock_root/build_artifacts/jedi_1733300866624/work\n",
      "Jinja2==3.1.6\n",
      "joblib @ file:///home/conda/feedstock_root/build_artifacts/joblib_1733736026804/work\n",
      "jsonpatch @ file:///home/conda/feedstock_root/build_artifacts/jsonpatch_1733814567314/work\n",
      "jsonpointer @ file:///Users/runner/miniforge3/conda-bld/jsonpointer_1725302931775/work\n",
      "jupyter_client @ file:///home/conda/feedstock_root/build_artifacts/jupyter_client_1733440914442/work\n",
      "jupyter_core @ file:///home/conda/feedstock_root/build_artifacts/jupyter_core_1727163409502/work\n",
      "kiwisolver==1.4.8\n",
      "libmambapy @ file:///Users/runner/miniforge3/conda-bld/mamba-split_1735835787728/work/libmambapy\n",
      "lightgbm==4.6.0\n",
      "lxml==5.3.2\n",
      "mamba @ file:///Users/runner/miniforge3/conda-bld/mamba-split_1735835787728/work/mamba\n",
      "MarkupSafe==3.0.2\n",
      "matplotlib==3.10.1\n",
      "matplotlib-inline @ file:///home/conda/feedstock_root/build_artifacts/matplotlib-inline_1733416936468/work\n",
      "menuinst @ file:///Users/runner/miniforge3/conda-bld/menuinst_1731147022576/work\n",
      "mpmath==1.3.0\n",
      "narwhals==1.37.1\n",
      "nest_asyncio @ file:///home/conda/feedstock_root/build_artifacts/nest-asyncio_1733325553580/work\n",
      "networkx==3.4.2\n",
      "numpy==2.2.4\n",
      "opencv-python==4.11.0.86\n",
      "packaging @ file:///home/conda/feedstock_root/build_artifacts/packaging_1733203243479/work\n",
      "pandas==2.2.3\n",
      "parso @ file:///home/conda/feedstock_root/build_artifacts/parso_1733271261340/work\n",
      "Penman==1.3.1\n",
      "pexpect @ file:///home/conda/feedstock_root/build_artifacts/pexpect_1733301927746/work\n",
      "pickleshare @ file:///home/conda/feedstock_root/build_artifacts/pickleshare_1733327343728/work\n",
      "pillow==11.2.0\n",
      "platformdirs @ file:///home/conda/feedstock_root/build_artifacts/platformdirs_1733232627818/work\n",
      "plotly==6.0.1\n",
      "pluggy @ file:///home/conda/feedstock_root/build_artifacts/pluggy_1733222765875/work\n",
      "portalocker==3.1.1\n",
      "prompt_toolkit @ file:///home/conda/feedstock_root/build_artifacts/prompt-toolkit_1737453357274/work\n",
      "psutil @ file:///Users/runner/miniforge3/conda-bld/psutil_1740663189718/work\n",
      "ptyprocess @ file:///home/conda/feedstock_root/build_artifacts/ptyprocess_1733302279685/work/dist/ptyprocess-0.7.0-py2.py3-none-any.whl#sha256=92c32ff62b5fd8cf325bec5ab90d7be3d2a8ca8c8a3813ff487a8d2002630d1f\n",
      "pure_eval @ file:///home/conda/feedstock_root/build_artifacts/pure_eval_1733569405015/work\n",
      "pycocotools==2.0.8\n",
      "pycosat @ file:///Users/runner/miniforge3/conda-bld/pycosat_1732588505673/work\n",
      "pycparser @ file:///home/conda/feedstock_root/build_artifacts/bld/rattler-build_pycparser_1733195786/work\n",
      "Pygments @ file:///home/conda/feedstock_root/build_artifacts/pygments_1736243443484/work\n",
      "pyparsing==3.2.3\n",
      "PySocks @ file:///home/conda/feedstock_root/build_artifacts/pysocks_1733217236728/work\n",
      "python-dateutil @ file:///home/conda/feedstock_root/build_artifacts/python-dateutil_1733215673016/work\n",
      "pytz==2025.2\n",
      "PyYAML==6.0.2\n",
      "pyzmq @ file:///Users/runner/miniforge3/conda-bld/pyzmq_1743831275671/work\n",
      "regex==2024.11.6\n",
      "requests @ file:///home/conda/feedstock_root/build_artifacts/requests_1733217035951/work\n",
      "ruamel.yaml @ file:///Users/runner/miniforge3/conda-bld/ruamel.yaml_1736248058782/work\n",
      "ruamel.yaml.clib @ file:///Users/runner/miniforge3/conda-bld/ruamel.yaml.clib_1728724504988/work\n",
      "sacrebleu==2.5.1\n",
      "safetensors==0.5.3\n",
      "scikit-learn @ file:///Users/runner/miniforge3/conda-bld/scikit-learn_1736496824048/work/dist/scikit_learn-1.6.1-cp312-cp312-macosx_11_0_arm64.whl#sha256=b73b4426f1e03a197903eddede31a62b6859e1eb5d298b145d003d742720c9f7\n",
      "scipy @ file:///Users/runner/miniforge3/conda-bld/scipy-split_1739790747129/work/dist/scipy-1.15.2-cp312-cp312-macosx_11_0_arm64.whl#sha256=6377b40ec578974afe4a77d938cf02b8494de15d4ba3ab3b9cb5f71d23b06a92\n",
      "seaborn==0.13.2\n",
      "setproctitle==1.3.5\n",
      "setuptools==78.1.0\n",
      "six @ file:///home/conda/feedstock_root/build_artifacts/six_1733380938961/work\n",
      "sklearn-compat==0.1.3\n",
      "smatch==1.0.4\n",
      "-e git+https://github.com/SapienzaNLP/spring.git@39079940d028ba0dde4c1af60432be49f67d76f8#egg=spring_amr\n",
      "stack_data @ file:///home/conda/feedstock_root/build_artifacts/stack_data_1733569443808/work\n",
      "supervision==0.25.1\n",
      "sympy==1.13.1\n",
      "tabulate==0.9.0\n",
      "threadpoolctl @ file:///home/conda/feedstock_root/build_artifacts/threadpoolctl_1741878222898/work\n",
      "timm==1.0.15\n",
      "tokenizers==0.21.1\n",
      "torch==2.6.0\n",
      "torchaudio==2.6.0\n",
      "torchvision==0.21.0\n",
      "tornado @ file:///Users/runner/miniforge3/conda-bld/tornado_1732615911982/work\n",
      "tqdm @ file:///home/conda/feedstock_root/build_artifacts/tqdm_1735661334605/work\n",
      "traitlets @ file:///home/conda/feedstock_root/build_artifacts/traitlets_1733367359838/work\n",
      "transformers==4.51.3\n",
      "truststore @ file:///home/conda/feedstock_root/build_artifacts/bld/rattler-build_truststore_1739009763/work\n",
      "typing_extensions @ file:///home/conda/feedstock_root/build_artifacts/bld/rattler-build_typing_extensions_1744302253/work\n",
      "tzdata==2025.2\n",
      "urllib3 @ file:///home/conda/feedstock_root/build_artifacts/urllib3_1734859416348/work\n",
      "waitress==3.0.2\n",
      "wcwidth @ file:///home/conda/feedstock_root/build_artifacts/wcwidth_1733231326287/work\n",
      "wheel==0.45.1\n",
      "xgboost @ file:///D:/bld/xgboost-split_1745056718345/work/python-package\n",
      "yapf==0.43.0\n",
      "zipp @ file:///home/conda/feedstock_root/build_artifacts/zipp_1732827521216/work\n",
      "zstandard==0.23.0\n"
     ]
    }
   ],
   "source": [
    "!pip freeze\n"
   ]
  },
  {
   "cell_type": "code",
   "execution_count": null,
   "metadata": {},
   "outputs": [],
   "source": []
  }
 ],
 "metadata": {
  "kernelspec": {
   "display_name": "base",
   "language": "python",
   "name": "python3"
  },
  "language_info": {
   "codemirror_mode": {
    "name": "ipython",
    "version": 3
   },
   "file_extension": ".py",
   "mimetype": "text/x-python",
   "name": "python",
   "nbconvert_exporter": "python",
   "pygments_lexer": "ipython3",
   "version": "3.12.9"
  }
 },
 "nbformat": 4,
 "nbformat_minor": 2
}
